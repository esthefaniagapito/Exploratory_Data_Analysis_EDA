{
 "cells": [
  {
   "cell_type": "markdown",
   "id": "103860e8",
   "metadata": {},
   "source": [
    "### Netflix Exploratory Data Analisys - EDA"
   ]
  },
  {
   "cell_type": "markdown",
   "id": "d9ec649f",
   "metadata": {},
   "source": [
    "#### Summary\n",
    "\n",
    "1. Data Description \n",
    "    - 1.1 Introduction\n",
    "    - 1.2 Data source and dataset\n",
    "2. Packages load and data\n",
    "3. Data Profilling\n",
    "    - 3.1 Understanding the dataset\n",
    "    - 3.2 Preprofilling\n",
    "    - 3.3 Preprocessing\n",
    "    - 3.4 Postprofilling\n",
    "4. EDA Questions\n",
    "    - 4.1 What different types of show or movie are upload on Netflix?\n",
    "    - 4.2 What is the correlation between the features?\n",
    "    - 4.3 Most watched shows on the Netflix?\n",
    "    - 4.4 Distribution of ratings?\n",
    "    - 4.5 Wich has the highest rating TV show or Movies?\n",
    "    - 4.6 Finding the best month to releasing content.\n",
    "    - 4.7 The highest watched geners on Netflix.\n",
    "    - 4.8 Released movie over the years.\n",
    "    - 4.9 Movies made on years basis.\n",
    "    - 4.10 What is the \"show_id\" and director of \"House of cards\"?\n",
    "    - 4.11 Show all the movies that were released in year 2000.\n",
    "    - 4.12 Show only the title of all TV shows that were released in India  only.\n",
    "    - 4.13 Show top 10 director, who gave the highest number of TV shows & Movies to Netflix.\n",
    "    - 4.14 In how many movies/ tv shows, 'tom Cruise' was cast?\n",
    "    - 4.15 How many movies got the \"TV-14\" rating in the caneda?\n",
    "5. Conclusions"
   ]
  },
  {
   "cell_type": "markdown",
   "id": "8f8560eb",
   "metadata": {},
   "source": [
    "#### 1. Data Description\n",
    "This Netflix Dataset has information about the TV shows and Movies available on Netflix from the year 2008 to 2021. Netflix is an application that keeps growing exponentially whole around the world and it is the most famous streaming platform. This dataset also available on kaggle website for free.\n",
    "\n",
    "- **show_id**: Gives the information about show id.\n",
    "- **type**: Gives information about 2 different unique values one is TV Show and another is Movie.\n",
    "- **title**: Gives information about the title of Movie or TV Show.\n",
    "- director: Gives information about the director who directed the Movie or TV Show.\n",
    "- **cast**: Gives information about the cast who plays role in Movie or TV Show.\n",
    "- **country**: Gives information about the Name of country.\n",
    "- **date_added**: Gives information about the tv shows or movie released.\n",
    "- **release_year**: Gives information about the year when Movie or TV Show was released.\n",
    "- **rating**: Gives information about the Movie or TV Show are in which category (eg like the movies are only for students, or adults, etc).\n",
    "- **duration**: Gives information about the duration of Movie or TV Show.\n",
    "- **listed_in**: Gives information about the genre of Movie or TV Show.\n",
    "- **description**: Gives information about the description of Movie or TV Show."
   ]
  },
  {
   "cell_type": "markdown",
   "id": "d3be4590",
   "metadata": {},
   "source": [
    "#### 1.1 Introduction\n",
    "In This Exploratory Data Analysis is to practice Python skills learned till now on a structured data set including loading, inspecting, wrangling, exploring, and drawing conclusions from the Netflix dataset.The notebook has observations with each step in order to explain thoroughly how to approach the data set. Based on the observation some questions also are answered in the notebook for the reference though not all of them are explored in the analysis.\n",
    "\n",
    "#### 1.2 Data source and dataset\n",
    "This Netflix Dataset has information about the TV shows and Movies available on Netflix from 2018 to 2021. This dataset collected from kaggle website for free.\n",
    "\n",
    "[Download](http://) \n"
   ]
  },
  {
   "cell_type": "markdown",
   "id": "7ed243a3",
   "metadata": {},
   "source": [
    "#### 2. Packages load and dataset"
   ]
  },
  {
   "cell_type": "markdown",
   "id": "796df7e0",
   "metadata": {},
   "source": [
    "Importing libraries or modules"
   ]
  },
  {
   "cell_type": "code",
   "execution_count": 1,
   "id": "e5357b6e",
   "metadata": {},
   "outputs": [
    {
     "name": "stdout",
     "output_type": "stream",
     "text": [
      "CPU times: total: 2.7 s\n",
      "Wall time: 3.44 s\n"
     ]
    }
   ],
   "source": [
    "%%time\n",
    "import numpy as np\n",
    "import pandas as pd\n",
    "import os\n",
    "from pathlib import Path\n",
    "import seaborn as sns\n",
    "import ydata_profiling as prf\n",
    "from matplotlib import pyplot as plt\n",
    "sns.set()\n",
    "%matplotlib inline"
   ]
  },
  {
   "cell_type": "markdown",
   "id": "9a95656a",
   "metadata": {},
   "source": [
    "Load the dataset"
   ]
  },
  {
   "cell_type": "code",
   "execution_count": 2,
   "id": "761aeb99",
   "metadata": {},
   "outputs": [
    {
     "data": {
      "text/plain": [
       "WindowsPath('C:/Users/admin/Documents/Exploratory_Data_Analysis_EDA/EDA_Classes')"
      ]
     },
     "execution_count": 2,
     "metadata": {},
     "output_type": "execute_result"
    }
   ],
   "source": [
    "p = Path(os.getcwd())\n",
    "p"
   ]
  },
  {
   "cell_type": "code",
   "execution_count": 4,
   "id": "e406aba6",
   "metadata": {},
   "outputs": [
    {
     "data": {
      "text/html": [
       "<div>\n",
       "<style scoped>\n",
       "    .dataframe tbody tr th:only-of-type {\n",
       "        vertical-align: middle;\n",
       "    }\n",
       "\n",
       "    .dataframe tbody tr th {\n",
       "        vertical-align: top;\n",
       "    }\n",
       "\n",
       "    .dataframe thead th {\n",
       "        text-align: right;\n",
       "    }\n",
       "</style>\n",
       "<table border=\"1\" class=\"dataframe\">\n",
       "  <thead>\n",
       "    <tr style=\"text-align: right;\">\n",
       "      <th></th>\n",
       "      <th>show_id</th>\n",
       "      <th>type</th>\n",
       "      <th>title</th>\n",
       "      <th>director</th>\n",
       "      <th>cast</th>\n",
       "      <th>country</th>\n",
       "      <th>date_added</th>\n",
       "      <th>release_year</th>\n",
       "      <th>rating</th>\n",
       "      <th>duration</th>\n",
       "      <th>listed_in</th>\n",
       "      <th>description</th>\n",
       "    </tr>\n",
       "  </thead>\n",
       "  <tbody>\n",
       "    <tr>\n",
       "      <th>0</th>\n",
       "      <td>s1</td>\n",
       "      <td>Movie</td>\n",
       "      <td>Dick Johnson Is Dead</td>\n",
       "      <td>Kirsten Johnson</td>\n",
       "      <td>NaN</td>\n",
       "      <td>United States</td>\n",
       "      <td>September 25, 2021</td>\n",
       "      <td>2020</td>\n",
       "      <td>PG-13</td>\n",
       "      <td>90 min</td>\n",
       "      <td>Documentaries</td>\n",
       "      <td>As her father nears the end of his life, filmm...</td>\n",
       "    </tr>\n",
       "    <tr>\n",
       "      <th>1</th>\n",
       "      <td>s2</td>\n",
       "      <td>TV Show</td>\n",
       "      <td>Blood &amp; Water</td>\n",
       "      <td>NaN</td>\n",
       "      <td>Ama Qamata, Khosi Ngema, Gail Mabalane, Thaban...</td>\n",
       "      <td>South Africa</td>\n",
       "      <td>September 24, 2021</td>\n",
       "      <td>2021</td>\n",
       "      <td>TV-MA</td>\n",
       "      <td>2 Seasons</td>\n",
       "      <td>International TV Shows, TV Dramas, TV Mysteries</td>\n",
       "      <td>After crossing paths at a party, a Cape Town t...</td>\n",
       "    </tr>\n",
       "    <tr>\n",
       "      <th>2</th>\n",
       "      <td>s3</td>\n",
       "      <td>TV Show</td>\n",
       "      <td>Ganglands</td>\n",
       "      <td>Julien Leclercq</td>\n",
       "      <td>Sami Bouajila, Tracy Gotoas, Samuel Jouy, Nabi...</td>\n",
       "      <td>NaN</td>\n",
       "      <td>September 24, 2021</td>\n",
       "      <td>2021</td>\n",
       "      <td>TV-MA</td>\n",
       "      <td>1 Season</td>\n",
       "      <td>Crime TV Shows, International TV Shows, TV Act...</td>\n",
       "      <td>To protect his family from a powerful drug lor...</td>\n",
       "    </tr>\n",
       "    <tr>\n",
       "      <th>3</th>\n",
       "      <td>s4</td>\n",
       "      <td>TV Show</td>\n",
       "      <td>Jailbirds New Orleans</td>\n",
       "      <td>NaN</td>\n",
       "      <td>NaN</td>\n",
       "      <td>NaN</td>\n",
       "      <td>September 24, 2021</td>\n",
       "      <td>2021</td>\n",
       "      <td>TV-MA</td>\n",
       "      <td>1 Season</td>\n",
       "      <td>Docuseries, Reality TV</td>\n",
       "      <td>Feuds, flirtations and toilet talk go down amo...</td>\n",
       "    </tr>\n",
       "    <tr>\n",
       "      <th>4</th>\n",
       "      <td>s5</td>\n",
       "      <td>TV Show</td>\n",
       "      <td>Kota Factory</td>\n",
       "      <td>NaN</td>\n",
       "      <td>Mayur More, Jitendra Kumar, Ranjan Raj, Alam K...</td>\n",
       "      <td>India</td>\n",
       "      <td>September 24, 2021</td>\n",
       "      <td>2021</td>\n",
       "      <td>TV-MA</td>\n",
       "      <td>2 Seasons</td>\n",
       "      <td>International TV Shows, Romantic TV Shows, TV ...</td>\n",
       "      <td>In a city of coaching centers known to train I...</td>\n",
       "    </tr>\n",
       "  </tbody>\n",
       "</table>\n",
       "</div>"
      ],
      "text/plain": [
       "  show_id     type                  title         director  \\\n",
       "0      s1    Movie   Dick Johnson Is Dead  Kirsten Johnson   \n",
       "1      s2  TV Show          Blood & Water              NaN   \n",
       "2      s3  TV Show              Ganglands  Julien Leclercq   \n",
       "3      s4  TV Show  Jailbirds New Orleans              NaN   \n",
       "4      s5  TV Show           Kota Factory              NaN   \n",
       "\n",
       "                                                cast        country  \\\n",
       "0                                                NaN  United States   \n",
       "1  Ama Qamata, Khosi Ngema, Gail Mabalane, Thaban...   South Africa   \n",
       "2  Sami Bouajila, Tracy Gotoas, Samuel Jouy, Nabi...            NaN   \n",
       "3                                                NaN            NaN   \n",
       "4  Mayur More, Jitendra Kumar, Ranjan Raj, Alam K...          India   \n",
       "\n",
       "           date_added  release_year rating   duration  \\\n",
       "0  September 25, 2021          2020  PG-13     90 min   \n",
       "1  September 24, 2021          2021  TV-MA  2 Seasons   \n",
       "2  September 24, 2021          2021  TV-MA   1 Season   \n",
       "3  September 24, 2021          2021  TV-MA   1 Season   \n",
       "4  September 24, 2021          2021  TV-MA  2 Seasons   \n",
       "\n",
       "                                           listed_in  \\\n",
       "0                                      Documentaries   \n",
       "1    International TV Shows, TV Dramas, TV Mysteries   \n",
       "2  Crime TV Shows, International TV Shows, TV Act...   \n",
       "3                             Docuseries, Reality TV   \n",
       "4  International TV Shows, Romantic TV Shows, TV ...   \n",
       "\n",
       "                                         description  \n",
       "0  As her father nears the end of his life, filmm...  \n",
       "1  After crossing paths at a party, a Cape Town t...  \n",
       "2  To protect his family from a powerful drug lor...  \n",
       "3  Feuds, flirtations and toilet talk go down amo...  \n",
       "4  In a city of coaching centers known to train I...  "
      ]
     },
     "execution_count": 4,
     "metadata": {},
     "output_type": "execute_result"
    }
   ],
   "source": [
    "netflix_dataset = str(p.parent.parent) + \"\\\\Exploratory_Data_Analysis_EDA\\Datasets\\\\\"\n",
    "df_netflix = pd.read_csv(netflix_dataset + \"netflix_titles_2021.csv\")\n",
    "df_netflix.head()\n"
   ]
  },
  {
   "cell_type": "code",
   "execution_count": null,
   "id": "4b01cfcb",
   "metadata": {},
   "outputs": [],
   "source": []
  }
 ],
 "metadata": {
  "kernelspec": {
   "display_name": "Python 3 (ipykernel)",
   "language": "python",
   "name": "python3"
  },
  "language_info": {
   "codemirror_mode": {
    "name": "ipython",
    "version": 3
   },
   "file_extension": ".py",
   "mimetype": "text/x-python",
   "name": "python",
   "nbconvert_exporter": "python",
   "pygments_lexer": "ipython3",
   "version": "3.9.12"
  }
 },
 "nbformat": 4,
 "nbformat_minor": 5
}
